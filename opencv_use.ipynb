{
 "cells": [
  {
   "cell_type": "code",
   "execution_count": 2,
   "metadata": {},
   "outputs": [
    {
     "data": {
      "text/plain": [
       "True"
      ]
     },
     "execution_count": 2,
     "metadata": {},
     "output_type": "execute_result"
    }
   ],
   "source": [
    "import numpy as np\n",
    "import cv2\n",
    "img=cv2.imread(\"jack.jpg\")\n",
    "cv2.namedWindow(\"image\",cv2.WINDOW_NORMAL)\n",
    "cv2.imshow(\"image\",img)\n",
    "cv2.waitKey(0)\n",
    "cv2.destroyAllWindows()\n",
    "cv2.imwrite(\"output.png\",img)#size will be differrent from main jpg"
   ]
  },
  {
   "cell_type": "code",
   "execution_count": 28,
   "metadata": {},
   "outputs": [
    {
     "name": "stdout",
     "output_type": "stream",
     "text": [
      "[[[ 46  35   3]\n",
      "  [ 64  51  19]\n",
      "  [ 60  45  13]\n",
      "  ...\n",
      "  [ 69  47  19]\n",
      "  [ 71  44  23]\n",
      "  [ 68  41  21]]\n",
      "\n",
      " [[ 49  38   6]\n",
      "  [ 59  48  16]\n",
      "  [ 57  42  10]\n",
      "  ...\n",
      "  [ 71  49  21]\n",
      "  [ 67  40  19]\n",
      "  [ 63  36  16]]\n",
      "\n",
      " [[ 52  43  10]\n",
      "  [ 55  44  12]\n",
      "  [ 52  39   7]\n",
      "  ...\n",
      "  [ 73  51  23]\n",
      "  [ 72  45  24]\n",
      "  [ 74  47  27]]\n",
      "\n",
      " ...\n",
      "\n",
      " [[ 21  23  33]\n",
      "  [ 20  22  32]\n",
      "  [ 23  25  35]\n",
      "  ...\n",
      "  [110 101  88]\n",
      "  [140 123 110]\n",
      "  [173 154 141]]\n",
      "\n",
      " [[ 21  23  33]\n",
      "  [ 24  26  36]\n",
      "  [ 22  24  34]\n",
      "  ...\n",
      "  [141 127 115]\n",
      "  [166 144 132]\n",
      "  [185 159 145]]\n",
      "\n",
      " [[ 15  17  27]\n",
      "  [ 24  26  36]\n",
      "  [ 23  25  35]\n",
      "  ...\n",
      "  [163 147 134]\n",
      "  [186 160 148]\n",
      "  [194 165 151]]]\n",
      "dimention of array 3\n",
      "type of image <type 'numpy.ndarray'>\n",
      "number of row 800\n",
      "total value in top row 1280\n",
      "num of channel first row 3\n",
      "no of(row,collumn,channel)of image= (800, 1280, 3)\n",
      "uint8\n",
      "[67 46 15]\n",
      "one channel image [[ 46  64  60 ...  69  71  68]\n",
      " [ 49  59  57 ...  71  67  63]\n",
      " [ 52  55  52 ...  73  72  74]\n",
      " ...\n",
      " [ 21  20  23 ... 110 140 173]\n",
      " [ 21  24  22 ... 141 166 185]\n",
      " [ 15  24  23 ... 163 186 194]]\n",
      "total size 3072000\n"
     ]
    }
   ],
   "source": [
    "import numpy as np\n",
    "import cv2\n",
    "img=cv2.imread(\"jack.jpg\",1)#1 because same imagecolor will be passing/bydefault its 1 not mendatory\n",
    "\n",
    "print img\n",
    "print \"dimention of array\",img.ndim\n",
    "print \"type of image\",type(img)\n",
    "print \"number of row\",len(img)#number of row\n",
    "print \"total value in top row\",len(img[0])#total value in top row/vertical collumns\n",
    "print \"num of channel first row\",len(img[0][0])#num of channel(rgb)\n",
    "print \"no of(row,collumn,channel)of image=\",img.shape\n",
    "print img.dtype#uint8(unsigned integer of 8)max each px->0-2**8/256\n",
    "print img[10,5]#pixel value of that array\n",
    "print \"one channel image\",img[:,:,0]#print 1st channel image\n",
    "print \"total size\",img.size\n"
   ]
  },
  {
   "cell_type": "code",
   "execution_count": 7,
   "metadata": {},
   "outputs": [
    {
     "name": "stdout",
     "output_type": "stream",
     "text": [
      "[0]\n",
      "[1 1 1]\n",
      "[65535 65535 65535]\n",
      "[255   0   0]\n"
     ]
    }
   ],
   "source": [
    "import numpy as np\n",
    "import cv2\n",
    "\n",
    "black=np.zeros([150,200,1],'uint8')\n",
    "#print black\n",
    "cv2.imshow(\"black\",black)\n",
    "print(black[0,0,:])#print all bgr value of of that pixel(0,0) location\n",
    "\n",
    "ones=np.ones([150,200,3],'uint8')\n",
    "#ones *=(2**8-1) convert to 255,255,255 array to get white value\n",
    "cv2.imshow(\"ones\",ones)\n",
    "print(ones[0,0,:])#print all bgr value of of that pixel(0,0) location\n",
    "#above to images color of image of almost same or same pixel 0,1 alomost same\n",
    "\n",
    "white=np.ones([150,200,3],'uint16')#array of ones\n",
    "white *=(2**16-1)#by maltiply max value changing array to max pixel value\n",
    "cv2.imshow(\"white\",white)#maximun size of 16 bit image\n",
    "print(white[0,0,:])#print all bgr value of of that pixel(0,0) location\n",
    "\n",
    "color=ones.copy()\n",
    "#print color\n",
    "color[:,:]=(255,0,0)\n",
    "cv2.imshow(\"blue\",color)\n",
    "print color[0,0,:]\n",
    "\n",
    "cv2.waitKey(0)\n",
    "cv2.destroyAllWindows()"
   ]
  },
  {
   "cell_type": "code",
   "execution_count": null,
   "metadata": {},
   "outputs": [],
   "source": []
  }
 ],
 "metadata": {
  "kernelspec": {
   "display_name": "Python 2",
   "language": "python",
   "name": "python2"
  },
  "language_info": {
   "codemirror_mode": {
    "name": "ipython",
    "version": 2
   },
   "file_extension": ".py",
   "mimetype": "text/x-python",
   "name": "python",
   "nbconvert_exporter": "python",
   "pygments_lexer": "ipython2",
   "version": "2.7.14"
  }
 },
 "nbformat": 4,
 "nbformat_minor": 2
}
