{
 "cells": [
  {
   "cell_type": "code",
   "execution_count": 5,
   "metadata": {},
   "outputs": [
    {
     "name": "stdout",
     "output_type": "stream",
     "text": [
      "[6, 8, 10, 12]\n",
      "[ 6  8 10 12]\n"
     ]
    }
   ],
   "source": [
    "#TO GET MORE FUNCTIONALLITY ,FAST CALCULATION ,MATHEMATICAL EXPRESSION WE SHOULD USE NUMPY NOT LIST\n",
    "#array function always take list and touple\n",
    "import numpy as np\n",
    "l1=[1,2,3,4]\n",
    "l2=[5,6,7,8]\n",
    "sum_list=[i+j for i,j in zip(l1,l2)]\n",
    "print sum_list\n",
    "arr1=np.array(l1)\n",
    "arr2=np.array(l2)\n",
    "sum_array=arr1+arr2\n",
    "print sum_array"
   ]
  },
  {
   "cell_type": "code",
   "execution_count": 10,
   "metadata": {},
   "outputs": [
    {
     "name": "stdout",
     "output_type": "stream",
     "text": [
      "[13 34 45] <type 'numpy.ndarray'>\n"
     ]
    },
    {
     "data": {
      "text/plain": [
       "dtype('int32')"
      ]
     },
     "execution_count": 10,
     "metadata": {},
     "output_type": "execute_result"
    }
   ],
   "source": [
    "li=[1,\"srikant\",5.76,3+4j]#list can contain any type of data\n",
    "arr=np.array(range(10))#numpy array contain only homogenious data\n",
    "arr1=np.array((23,34,45))#it will convert touple into array\n",
    "arr1[0]=13.8#it shows that nummy is mutable\n",
    "print arr1,type(arr1)\n",
    "arr1.dtype\n"
   ]
  },
  {
   "cell_type": "code",
   "execution_count": 14,
   "metadata": {},
   "outputs": [
    {
     "data": {
      "text/plain": [
       "array(['1', '2', '3', '4'], dtype='|S11')"
      ]
     },
     "execution_count": 14,
     "metadata": {},
     "output_type": "execute_result"
    }
   ],
   "source": [
    "np.array([1,2,'3','4']) #it will convert all data to string"
   ]
  },
  {
   "cell_type": "code",
   "execution_count": 16,
   "metadata": {},
   "outputs": [
    {
     "data": {
      "text/plain": [
       "array([1. , 2. , 3. , 4. , 5.6])"
      ]
     },
     "execution_count": 16,
     "metadata": {},
     "output_type": "execute_result"
    }
   ],
   "source": [
    "np.array([1,2,3,4,5.6])#convert all int to float"
   ]
  },
  {
   "cell_type": "code",
   "execution_count": 17,
   "metadata": {},
   "outputs": [
    {
     "data": {
      "text/plain": [
       "array([1, 2, 3, 6, 7])"
      ]
     },
     "execution_count": 17,
     "metadata": {},
     "output_type": "execute_result"
    }
   ],
   "source": [
    "np.array([1,2,3,6.4,7.4],dtype=int)#by this you can mention this data type"
   ]
  },
  {
   "cell_type": "code",
   "execution_count": 2,
   "metadata": {},
   "outputs": [
    {
     "name": "stdout",
     "output_type": "stream",
     "text": [
      "[0 1 2 3 4 5 6 7 8 9]\n",
      "10\n",
      "1\n",
      "number of row and collumn (10,)\n",
      "4\n",
      "40\n"
     ]
    },
    {
     "data": {
      "text/plain": [
       "array([[0, 1, 2, 3, 4],\n",
       "       [5, 6, 7, 8, 9]])"
      ]
     },
     "execution_count": 2,
     "metadata": {},
     "output_type": "execute_result"
    }
   ],
   "source": [
    "#OPERATION OF NUMPY ARRAY FROM LIST AND TOUPLE\n",
    "import numpy as np\n",
    "arr=np.array(range(10))\n",
    "print arr\n",
    "print arr.size #total size of array\n",
    "print arr.ndim #dimention of array\n",
    "print \"number of row and collumn\",arr.shape #number of row and collumn\n",
    "print arr.itemsize #how much memory occupied for one element in array(here 4 bytes)\n",
    "print arr.size*arr.itemsize#total memory is occupied by array\n",
    "arr.reshape(2,5)#converting array into 2 row and 5 collumn(as 10 is size(2*5))\n"
   ]
  },
  {
   "cell_type": "code",
   "execution_count": 37,
   "metadata": {},
   "outputs": [
    {
     "name": "stdout",
     "output_type": "stream",
     "text": [
      "[30 32 34 36 38 40 42 44 46 48]\n",
      "[200 231 264 299 336 375 416 459 504 551]\n",
      "[-10 -10 -10 -10 -10 -10 -10 -10 -10 -10]\n",
      "[0 0 0 0 0 0 0 0 0 0]\n",
      "[20 22 24 26 28 30 32 34 36 38]\n"
     ]
    }
   ],
   "source": [
    "#operation on array\n",
    "#this operation will work only size of both array should same we must check that\n",
    "#if datatype diff see next\n",
    "arr1=np.array(range(10,20))\n",
    "arr2=np.array(range(20,30))\n",
    "print arr1+arr2\n",
    "print arr1*arr2\n",
    "print arr1-arr2\n",
    "print arr1/arr2\n",
    "print 2*arr1"
   ]
  },
  {
   "cell_type": "code",
   "execution_count": 38,
   "metadata": {},
   "outputs": [
    {
     "name": "stdout",
     "output_type": "stream",
     "text": [
      "[0 1 2 3 4 5]\n",
      "[0 1 2 3 4 5 6 7]\n"
     ]
    },
    {
     "ename": "ValueError",
     "evalue": "operands could not be broadcast together with shapes (6,) (8,) ",
     "output_type": "error",
     "traceback": [
      "\u001b[0;31m---------------------------------------------------------------------------\u001b[0m",
      "\u001b[0;31mValueError\u001b[0m                                Traceback (most recent call last)",
      "\u001b[0;32m<ipython-input-38-8eddef491b41>\u001b[0m in \u001b[0;36m<module>\u001b[0;34m()\u001b[0m\n\u001b[1;32m      3\u001b[0m \u001b[0;32mprint\u001b[0m \u001b[0marr1\u001b[0m\u001b[0;34m\u001b[0m\u001b[0m\n\u001b[1;32m      4\u001b[0m \u001b[0;32mprint\u001b[0m \u001b[0marr2\u001b[0m\u001b[0;34m\u001b[0m\u001b[0m\n\u001b[0;32m----> 5\u001b[0;31m \u001b[0;32mprint\u001b[0m \u001b[0marr1\u001b[0m\u001b[0;34m+\u001b[0m\u001b[0marr2\u001b[0m\u001b[0;34m\u001b[0m\u001b[0m\n\u001b[0m",
      "\u001b[0;31mValueError\u001b[0m: operands could not be broadcast together with shapes (6,) (8,) "
     ]
    }
   ],
   "source": [
    "#size are not same that why it is not working\n",
    "arr1=np.array(range(6))\n",
    "arr2=np.array(range(8))\n",
    "print arr1\n",
    "print arr2\n",
    "print arr1+arr2"
   ]
  },
  {
   "cell_type": "code",
   "execution_count": 39,
   "metadata": {},
   "outputs": [
    {
     "name": "stdout",
     "output_type": "stream",
     "text": [
      "[0.  0.1 0.2 0.3 0.4 0.5 0.6 0.7 0.8 0.9]\n"
     ]
    }
   ],
   "source": [
    "print np.arange(0,1,.1)"
   ]
  },
  {
   "cell_type": "code",
   "execution_count": 42,
   "metadata": {},
   "outputs": [
    {
     "data": {
      "text/plain": [
       "array([0., 1., 2., 3., 4., 5., 6., 7., 8., 9.])"
      ]
     },
     "execution_count": 42,
     "metadata": {},
     "output_type": "execute_result"
    }
   ],
   "source": [
    "np.array(range(10),dtype=float)"
   ]
  },
  {
   "cell_type": "code",
   "execution_count": 44,
   "metadata": {},
   "outputs": [
    {
     "data": {
      "text/plain": [
       "array([0.  , 0.25, 0.5 , 0.75, 1.  , 1.25, 1.5 , 1.75, 2.  ])"
      ]
     },
     "execution_count": 44,
     "metadata": {},
     "output_type": "execute_result"
    }
   ],
   "source": [
    "#use diff linspace like arrange \n",
    "np.linspace(0,2,9)#arg=staring,ending,number of element you want"
   ]
  },
  {
   "cell_type": "code",
   "execution_count": 45,
   "metadata": {},
   "outputs": [
    {
     "data": {
      "text/plain": [
       "array([[0.  , 0.25, 0.5 ],\n",
       "       [0.75, 1.  , 1.25],\n",
       "       [1.5 , 1.75, 2.  ]])"
      ]
     },
     "execution_count": 45,
     "metadata": {},
     "output_type": "execute_result"
    }
   ],
   "source": [
    "np.linspace(0,2,9).reshape(3,3)"
   ]
  },
  {
   "cell_type": "code",
   "execution_count": 47,
   "metadata": {},
   "outputs": [
    {
     "data": {
      "text/plain": [
       "array([[0.76318468, 0.87945971, 0.77604903, 0.81729962],\n",
       "       [0.7659431 , 0.50393385, 0.70278071, 0.10474543]])"
      ]
     },
     "execution_count": 47,
     "metadata": {},
     "output_type": "execute_result"
    }
   ],
   "source": [
    "#to get random list\n",
    "np.random.random((2,4)) #mentioning the size in touple"
   ]
  },
  {
   "cell_type": "code",
   "execution_count": 50,
   "metadata": {},
   "outputs": [
    {
     "name": "stdout",
     "output_type": "stream",
     "text": [
      "[0 1 2 3 4 5 6 7 8 9]\n",
      "[0. 1. 2. 3. 4. 5. 6. 7. 8. 9.]\n"
     ]
    },
    {
     "data": {
      "text/plain": [
       "array([ 0.,  2.,  4.,  6.,  8., 10., 12., 14., 16., 18.])"
      ]
     },
     "execution_count": 50,
     "metadata": {},
     "output_type": "execute_result"
    }
   ],
   "source": [
    "#size same and diff data type(int,float),mathematical operation possible\n",
    "arr1=np.array(range(10),dtype=\"int\")\n",
    "arr2=np.array(range(10),dtype=\"float\")\n",
    "print arr1\n",
    "print arr2\n",
    "arr1+arr2"
   ]
  },
  {
   "cell_type": "code",
   "execution_count": 51,
   "metadata": {},
   "outputs": [
    {
     "name": "stdout",
     "output_type": "stream",
     "text": [
      "[0 1 2 3 4 5 6 7 8 9]\n",
      "['0' '1' '2' '3' '4' '5' '6' '7' '8' '9']\n"
     ]
    },
    {
     "ename": "TypeError",
     "evalue": "ufunc 'add' did not contain a loop with signature matching types dtype('S11') dtype('S11') dtype('S11')",
     "output_type": "error",
     "traceback": [
      "\u001b[0;31m---------------------------------------------------------------------------\u001b[0m",
      "\u001b[0;31mTypeError\u001b[0m                                 Traceback (most recent call last)",
      "\u001b[0;32m<ipython-input-51-84a82bcce367>\u001b[0m in \u001b[0;36m<module>\u001b[0;34m()\u001b[0m\n\u001b[1;32m      4\u001b[0m \u001b[0;32mprint\u001b[0m \u001b[0marr1\u001b[0m\u001b[0;34m\u001b[0m\u001b[0m\n\u001b[1;32m      5\u001b[0m \u001b[0;32mprint\u001b[0m \u001b[0marr2\u001b[0m\u001b[0;34m\u001b[0m\u001b[0m\n\u001b[0;32m----> 6\u001b[0;31m \u001b[0marr1\u001b[0m\u001b[0;34m+\u001b[0m\u001b[0marr2\u001b[0m\u001b[0;34m\u001b[0m\u001b[0m\n\u001b[0m",
      "\u001b[0;31mTypeError\u001b[0m: ufunc 'add' did not contain a loop with signature matching types dtype('S11') dtype('S11') dtype('S11')"
     ]
    }
   ],
   "source": [
    "#size same and diff data type(int,string),mathematical operation possible\n",
    "arr1=np.array(range(10),dtype=\"int\")\n",
    "arr2=np.array(range(10),dtype=\"str\")\n",
    "print arr1\n",
    "print arr2\n",
    "arr1+arr2"
   ]
  },
  {
   "cell_type": "code",
   "execution_count": 60,
   "metadata": {},
   "outputs": [
    {
     "data": {
      "text/plain": [
       "'fgfmbmg'"
      ]
     },
     "execution_count": 60,
     "metadata": {},
     "output_type": "execute_result"
    }
   ],
   "source": [
    "10+30.5 #it is possible\n",
    "#40+\"gjh\" #it is not\n",
    "\"fgf\"+\"mbmg\""
   ]
  },
  {
   "cell_type": "code",
   "execution_count": 65,
   "metadata": {},
   "outputs": [
    {
     "name": "stdout",
     "output_type": "stream",
     "text": [
      "[0, 1, 2, 3, 4, 5, 6, 7, 8, 9]\n",
      "[ 0 50  2  3  4  5  6  7  8  9]\n"
     ]
    }
   ],
   "source": [
    "#slicing .difference between list sliceing and numpy arr slicing\n",
    "arr=np.array(range(10))\n",
    "l=range(10)\n",
    "l1=l[0:3] #here l1 is diiferent object\n",
    "l1[1]=50\n",
    "arr1=arr[0:3]#here arr1 in point to arr means same object\n",
    "arr1[1]=50\n",
    "print l\n",
    "print arr"
   ]
  },
  {
   "cell_type": "code",
   "execution_count": 78,
   "metadata": {},
   "outputs": [
    {
     "name": "stdout",
     "output_type": "stream",
     "text": [
      "[[ 0  1  2  3  4]\n",
      " [ 5  6  7  8  9]\n",
      " [10 11 12 13 14]]\n",
      "sum of all 105\n",
      "sum of every collumn [15 18 21 24 27]\n",
      "sum of every row [10 35 60]\n",
      "max of every row [ 4  9 14]\n",
      "max of every collumn [10 11 12 13 14]\n"
     ]
    },
    {
     "data": {
      "text/plain": [
       "0"
      ]
     },
     "execution_count": 78,
     "metadata": {},
     "output_type": "execute_result"
    }
   ],
   "source": [
    "arr=np.arange(15).reshape(3,5)\n",
    "print arr\n",
    "print \"sum of all\",arr.sum()\n",
    "print \"sum of every collumn\",arr.sum(axis=0)#add of row\n",
    "print \"sum of every row\",arr.sum(axis=1)#addition of collumn\n",
    "print \"max of every row\",arr.max(axis=1)\n",
    "print \"max of every collumn\",arr.max(axis=0)\n",
    "arr.min()"
   ]
  },
  {
   "cell_type": "code",
   "execution_count": 86,
   "metadata": {},
   "outputs": [
    {
     "name": "stdout",
     "output_type": "stream",
     "text": [
      "[0, 50, 2] 2964063148\n",
      "[1, 2, 3, 4, 5] 2964739116\n",
      "[10 11 12 13 14 15 16 17 18 19] 2964079904\n",
      "[10 11 12 13 14 15 16 17 18 19] 2964078824\n"
     ]
    }
   ],
   "source": [
    "l=[1,2,3,4,5]\n",
    "l2=l[:]#copy to new object\n",
    "print l1,id(l)\n",
    "print l2,id(l2)\n",
    "arr=np.arange(10,20)\n",
    "arr1=arr.copy()#copy to new array object\n",
    "print arr1,id(arr1)\n",
    "print arr,id(arr)"
   ]
  },
  {
   "cell_type": "code",
   "execution_count": 148,
   "metadata": {},
   "outputs": [
    {
     "name": "stdout",
     "output_type": "stream",
     "text": [
      "[[1 2 3]\n",
      " [4 5 6]\n",
      " [7 8 9]]\n"
     ]
    },
    {
     "data": {
      "text/plain": [
       "array([[1, 2],\n",
       "       [4, 5]])"
      ]
     },
     "execution_count": 148,
     "metadata": {},
     "output_type": "execute_result"
    }
   ],
   "source": [
    "arr=np.arange(1,10).reshape(3,3)\n",
    "print arr\n",
    "arr[:2,:2]"
   ]
  },
  {
   "cell_type": "code",
   "execution_count": 105,
   "metadata": {},
   "outputs": [
    {
     "name": "stdout",
     "output_type": "stream",
     "text": [
      "[[1 2 3]\n",
      " [4 5 6]\n",
      " [7 8 9]] 2964133072\n",
      "transpose of array\n",
      "[[1 4 7]\n",
      " [2 5 8]\n",
      " [3 6 9]] 2964135632\n",
      "tranpose by transpose function\n",
      "[[1 4 7]\n",
      " [2 5 8]\n",
      " [3 6 9]] 2964133392\n"
     ]
    },
    {
     "data": {
      "text/plain": [
       "array([[  1,   2,   3],\n",
       "       [100,   5,   6],\n",
       "       [  7,   8,   9]])"
      ]
     },
     "execution_count": 105,
     "metadata": {},
     "output_type": "execute_result"
    }
   ],
   "source": [
    "#confusion T and transpose behaviuor\n",
    "arr=np.arange(1,10).reshape(3,3)\n",
    "arr1=arr.T\n",
    "arr2=arr.transpose()\n",
    "print arr,id(arr)\n",
    "print \"transpose of array\"\n",
    "print arr1,id(arr1)\n",
    "print \"tranpose by transpose function\"\n",
    "print arr2,id(arr2)\n",
    "arr2[0][1]=100\n",
    "arr"
   ]
  },
  {
   "cell_type": "code",
   "execution_count": 116,
   "metadata": {},
   "outputs": [
    {
     "name": "stdout",
     "output_type": "stream",
     "text": [
      "[0 1 2 3 4 5 6 7 8 9]\n",
      "False\n",
      "True\n"
     ]
    }
   ],
   "source": [
    "#if any one element is false it will return false(all function)\n",
    "arr=np.arange(10)\n",
    "print arr\n",
    "print arr.all()#bool(0)=false\n",
    "print np.arange(1,10).all()"
   ]
  },
  {
   "cell_type": "code",
   "execution_count": 117,
   "metadata": {},
   "outputs": [
    {
     "name": "stdout",
     "output_type": "stream",
     "text": [
      "[0 1 2 3 4 5 6 7 8 9]\n",
      "True\n",
      "True\n"
     ]
    }
   ],
   "source": [
    "#any function is opposite of all function\n",
    "arr=np.arange(10)\n",
    "print arr\n",
    "print arr.any()#bool(0)=false\n",
    "print np.arange(1,10).any()"
   ]
  },
  {
   "cell_type": "code",
   "execution_count": 122,
   "metadata": {},
   "outputs": [
    {
     "name": "stdout",
     "output_type": "stream",
     "text": [
      "3\n",
      "5\n",
      "[[65 77 67]\n",
      " [89 78 54]]\n",
      "[1 1 0]\n"
     ]
    }
   ],
   "source": [
    "#argsmax give index of max number of array\n",
    "arr=np.array([65,77,67,89,78,54])\n",
    "print arr.argmax()\n",
    "print arr.argmin()\n",
    "print arr.reshape(2,3)\n",
    "print arr.reshape(2,3).argmax(axis=0)"
   ]
  },
  {
   "cell_type": "code",
   "execution_count": 123,
   "metadata": {},
   "outputs": [
    {
     "name": "stdout",
     "output_type": "stream",
     "text": [
      "[65.+0.j 77.+0.j 67.+0.j 89.+0.j 78.+0.j 54.+0.j]\n"
     ]
    }
   ],
   "source": [
    "#astype is used change datatype\n",
    "arr=np.array([65,77,67,89,78,54])\n",
    "print arr.astype(\"complex\")"
   ]
  },
  {
   "cell_type": "raw",
   "metadata": {},
   "source": []
  },
  {
   "cell_type": "code",
   "execution_count": null,
   "metadata": {},
   "outputs": [],
   "source": [
    "#partition function"
   ]
  },
  {
   "cell_type": "code",
   "execution_count": 129,
   "metadata": {},
   "outputs": [
    {
     "name": "stdout",
     "output_type": "stream",
     "text": [
      "[3 4 5]\n",
      "[0 1 2 3 4 5 6 7 8 9]\n",
      "True\n"
     ]
    }
   ],
   "source": [
    "#checking the base of sub array\n",
    "\n",
    "arr=np.array(range(10))\n",
    "x=arr[3:6]\n",
    "print x\n",
    "print x.base\n",
    "print x.base is arr"
   ]
  },
  {
   "cell_type": "code",
   "execution_count": 130,
   "metadata": {},
   "outputs": [],
   "source": [
    "#diagonal function"
   ]
  },
  {
   "cell_type": "code",
   "execution_count": 138,
   "metadata": {},
   "outputs": [
    {
     "name": "stdout",
     "output_type": "stream",
     "text": [
      "[[0 1]\n",
      " [2 3]\n",
      " [4 5]\n",
      " [6 7]\n",
      " [8 9]]\n",
      "[0 1 2 3 4 5 6 7 8 9]\n",
      "<numpy.flatiter object at 0xb8a3bca0>\n"
     ]
    }
   ],
   "source": [
    "#flat and flattern multidimentional to single dimention array\n",
    "arr=arr=np.array(range(10)).reshape(5,2)\n",
    "print arr\n",
    "print arr.flatten()\n",
    "print arr.flat"
   ]
  },
  {
   "cell_type": "code",
   "execution_count": 153,
   "metadata": {},
   "outputs": [
    {
     "name": "stdout",
     "output_type": "stream",
     "text": [
      "arr1= [[10 11 12 13 14]\n",
      " [15 16 17 18 19]]\n",
      "arr2= [[20 21 22 23 24]\n",
      " [25 26 27 28 29]]\n",
      "vertical merge [[10 11 12 13 14]\n",
      " [15 16 17 18 19]\n",
      " [20 21 22 23 24]\n",
      " [25 26 27 28 29]]\n",
      "horizontal merge [[10 11 12 13 14 20 21 22 23 24]\n",
      " [15 16 17 18 19 25 26 27 28 29]]\n"
     ]
    }
   ],
   "source": [
    "#vstack used to vertical merege \n",
    "arr1=np.array(range(10,20)).reshape(2,5)\n",
    "arr2=np.array(range(20,30)).reshape(2,5)\n",
    "print \"arr1=\",arr1\n",
    "print \"arr2=\",arr2\n",
    "\n",
    "print \"vertical merge\",np.vstack((arr1,arr2))\n",
    "print \"horizontal merge\",np.hstack((arr1,arr2))\n"
   ]
  },
  {
   "cell_type": "code",
   "execution_count": null,
   "metadata": {},
   "outputs": [],
   "source": []
  }
 ],
 "metadata": {
  "kernelspec": {
   "display_name": "Python 2",
   "language": "python",
   "name": "python2"
  },
  "language_info": {
   "codemirror_mode": {
    "name": "ipython",
    "version": 2
   },
   "file_extension": ".py",
   "mimetype": "text/x-python",
   "name": "python",
   "nbconvert_exporter": "python",
   "pygments_lexer": "ipython2",
   "version": "2.7.14"
  }
 },
 "nbformat": 4,
 "nbformat_minor": 2
}
